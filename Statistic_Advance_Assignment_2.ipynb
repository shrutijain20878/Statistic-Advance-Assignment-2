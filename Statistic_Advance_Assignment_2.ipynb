{
  "nbformat": 4,
  "nbformat_minor": 0,
  "metadata": {
    "colab": {
      "provenance": []
    },
    "kernelspec": {
      "name": "python3",
      "display_name": "Python 3"
    },
    "language_info": {
      "name": "python"
    }
  },
  "cells": [
    {
      "cell_type": "code",
      "execution_count": null,
      "metadata": {
        "id": "z3WEe1AbHMRa"
      },
      "outputs": [],
      "source": []
    },
    {
      "cell_type": "markdown",
      "source": [
        "# Statistic Advance Assignment 2"
      ],
      "metadata": {
        "id": "Be5_iTSWHO_e"
      }
    },
    {
      "cell_type": "markdown",
      "source": [
        "1. **What is hypothesis testing in statistics?**\n",
        "\n",
        " Hypothesis testing is a statistical method used to check assumptions about a population using sample data.\n",
        "It starts with a null hypothesis (H₀), which assumes no effect or difference, and an alternative hypothesis (H₁), which assumes there is an effect or difference.\n",
        "Data is analyzed, and a test statistic with a p-value is calculated.\n",
        "Based on the p-value, we decide whether to reject or fail to reject the null hypothesis."
      ],
      "metadata": {
        "id": "8u2eTi7JHUTU"
      }
    },
    {
      "cell_type": "markdown",
      "source": [
        "**2.What is the null hypothesis, and how does it differ from the alternative hypothesis?**\n",
        "\n",
        " The null hypothesis (H₀) is a statement that assumes there is no effect, no difference, or no relationship between variables. It represents the default or baseline assumption that any observed result in the sample is due to chance.\n",
        "\n",
        " The alternative hypothesis (H₁ or Ha) is the opposite of the null; it suggests that there is a significant effect, difference, or relationship. The main goal of hypothesis testing is to use sample data to decide whether there is enough evidence to reject the null hypothesis in favor of the alternative."
      ],
      "metadata": {
        "id": "8lJXIUseHicO"
      }
    },
    {
      "cell_type": "markdown",
      "source": [
        "**3.Explain the significance level in hypothesis testing and its role in deciding the outcome of a test**\n",
        "\n",
        " The significance level (α) in hypothesis testing is the threshold used to decide whether to reject the null hypothesis. It represents the probability of making a Type I error, i.e., rejecting the null hypothesis when it is actually true. Common values of α are 0.05, 0.01, or 0.10.\n",
        "\n",
        " If the p-value obtained from the test is less than or equal to α, we reject the null hypothesis and conclude that the result is statistically significant. If the p-value is greater than α, we fail to reject the null, meaning there isn’t enough evidence to support the alternative hypothesis."
      ],
      "metadata": {
        "id": "xBu2hIw5H27L"
      }
    },
    {
      "cell_type": "markdown",
      "source": [
        "**4.What are Type I and Type II errors? Give examples of each**.\n",
        "\n",
        "In hypothesis testing:\n",
        "\n",
        "A Type I error happens when we reject the null hypothesis (H₀) even though it is true.\n",
        "Example: A medical test says a healthy person has a disease (false positive).\n",
        "\n",
        "A Type II error happens when we fail to reject the null hypothesis even though it is false.\n",
        "Example: A medical test fails to detect a disease in a sick person (false negative)."
      ],
      "metadata": {
        "id": "rICk6SqvIQ8v"
      }
    },
    {
      "cell_type": "markdown",
      "source": [
        "**5.What is the difference between Z-test and T-test.Explain when to use each**\n",
        "\n",
        "A Z-test is a statistical test used when the population variance is known and the sample size is large (usually greater than 30). It assumes that the data follows a normal distribution and uses the standard normal (Z) distribution to evaluate how far the sample statistic is from the population parameter.\n",
        "\n",
        "A T-test, on the other hand, is applied when the population variance is unknown and the sample size is small (30 or fewer). It uses the Student’s t-distribution, which is wider and accounts for more variability in small samples. In practice, the T-test is more common since population variance is rarely known."
      ],
      "metadata": {
        "id": "n5CI-g4LIiUU"
      }
    },
    {
      "cell_type": "code",
      "source": [
        "# 6. Write a Python program to generate a binomial distribution with n=10 and\n",
        "# p=0.5, then plot its histogram.\n",
        "# (Include your Python code and output in the code box below.)\n",
        "# Hint: Generate random number using random function.\n",
        "import numpy as np\n",
        "import matplotlib.pyplot as plt\n",
        "\n",
        "b = np.random.binomial(n=10, p=0.5, size=1000)\n",
        "plt.hist(b, bins=100)\n",
        "plt.show()"
      ],
      "metadata": {
        "colab": {
          "base_uri": "https://localhost:8080/",
          "height": 430
        },
        "id": "Hmb5VFUfJFhK",
        "outputId": "f66893ba-b881-4395-89ab-89f66ac3c293"
      },
      "execution_count": 2,
      "outputs": [
        {
          "output_type": "display_data",
          "data": {
            "text/plain": [
              "<Figure size 640x480 with 1 Axes>"
            ],
            "image/png": "[encoded data removed]"
          },
          "metadata": {}
        }
      ]
    },
    {
      "cell_type": "code",
      "source": [
        "# 7. Implement hypothesis testing using Z-statistics for a sample dataset in\n",
        "# Python. Show the Python code and interpret the results.\n",
        "# sample_data = [49.1, 50.2, 51.0, 48.7, 50.5, 49.8, 50.3, 50.7, 50.2, 49.6,\n",
        "# 50.1, 49.9, 50.8, 50.4, 48.9, 50.6, 50.0, 49.7, 50.2, 49.5,\n",
        "# 50.1, 50.3, 50.4, 50.5, 50.0, 50.7, 49.3, 49.8, 50.2, 50.9,\n",
        "# 50.3, 50.4, 50.0, 49.7, 50.5, 49.9]\n",
        "# (Include your Python code and output in the code box below.)\n",
        "\n",
        "import numpy as np\n",
        "from scipy import stats\n",
        "\n",
        "sample_data = [49.1, 50.2, 51.0, 48.7, 50.5, 49.8, 50.3, 50.7, 50.2, 49.6,\n",
        "               50.1, 49.9, 50.8, 50.4, 48.9, 50.6, 50.0, 49.7, 50.2, 49.5,\n",
        "               50.1, 50.3, 50.4, 50.5, 50.0, 50.7, 49.3, 49.8, 50.2, 50.9,\n",
        "               50.3, 50.4, 50.0, 49.7, 50.5, 49.9]\n",
        "\n",
        "\n",
        "mu = 50\n",
        "alpha = 0.05\n",
        "\n",
        "sample_mean = np.mean(sample_data)\n",
        "sample_std = np.std(sample_data, ddof=1)\n",
        "n = len(sample_data)\n",
        "\n",
        "z_stat = (sample_mean - mu) / (sample_std / np.sqrt(n))\n",
        "\n",
        "z_critical = stats.norm.ppf((1-alpha)/2)\n",
        "\n",
        "\n",
        "print(\"Sample Mean:\", sample_mean)\n",
        "print(\"Z-critical:\", z_critical)\n",
        "\n",
        "if abs(z_stat) > z_critical:\n",
        "    print(\"Reject H₀: Sample mean is significantly different from 50.\")\n",
        "else:\n",
        "    print(\"Fail to reject H₀: Sample mean is not significantly different from 50.\")\n"
      ],
      "metadata": {
        "colab": {
          "base_uri": "https://localhost:8080/"
        },
        "id": "aH5j6FCpJmdU",
        "outputId": "7f52b86a-7123-4bfb-ba48-6bc7479095ef"
      },
      "execution_count": 3,
      "outputs": [
        {
          "output_type": "stream",
          "name": "stdout",
          "text": [
            "Sample Mean: 50.08888888888889\n",
            "Z-critical: -0.06270677794321385\n",
            "Reject H₀: Sample mean is significantly different from 50.\n"
          ]
        }
      ]
    },
    {
      "cell_type": "code",
      "source": [
        "# 8. Write a Python script to simulate data from a normal distribution and\n",
        "# calculate the 95% confidence interval for its mean. Plot the data using Matplotlib.\n",
        "# (Include your Python code and output in the code box below.)\n",
        "\n",
        "import numpy as np\n",
        "import matplotlib.pyplot as plt\n",
        "from scipy import stats\n",
        "\n",
        "\n",
        "np.random.seed(42)\n",
        "mu, sigma, n = 50, 5, 100\n",
        "data = np.random.normal(mu, sigma, n)\n",
        "\n",
        "sample_mean = np.mean(data)\n",
        "sample_std = np.std(data, ddof=1)\n",
        "std_error = sample_std / np.sqrt(n)\n",
        "\n",
        "\n",
        "alpha = 0.05\n",
        "t_critical = stats.t.ppf(1 - alpha/2, df=n-1)\n",
        "margin_of_error = t_critical * std_error\n",
        "ci_lower, ci_upper = sample_mean - margin_of_error, sample_mean + margin_of_error\n",
        "\n",
        "print(\"Sample Mean:\", sample_mean)\n",
        "print(\"95% Confidence Interval: (\", ci_lower, \",\", ci_upper, \")\")\n",
        "\n",
        "plt.hist(data, bins=15)\n",
        "plt.show()\n"
      ],
      "metadata": {
        "colab": {
          "base_uri": "https://localhost:8080/",
          "height": 466
        },
        "id": "RNVidVS4LjMS",
        "outputId": "646edc04-8cd9-490d-fe95-5fd0137d3362"
      },
      "execution_count": 4,
      "outputs": [
        {
          "output_type": "stream",
          "name": "stdout",
          "text": [
            "Sample Mean: 49.48076741302953\n",
            "95% Confidence Interval: ( 48.579765818190495 , 50.38176900786857 )\n"
          ]
        },
        {
          "output_type": "display_data",
          "data": {
            "text/plain": [
              "<Figure size 640x480 with 1 Axes>"
            ],
            "image/png": "[encoded data removed]"
          },
          "metadata": {}
        }
      ]
    },
    {
      "cell_type": "code",
      "source": [
        "# 9. Write a Python function to calculate the Z-scores from a dataset and\n",
        "# visualize the standardized data using a histogram. Explain what the Z-scores represent\n",
        "# in terms of standard deviations from the mean.\n",
        "# (Include your Python code and output in the code box below.)\n",
        "\n",
        "import numpy as np\n",
        "import matplotlib.pyplot as plt\n",
        "\n",
        "def calculate_zscores(data):\n",
        "    mean = np.mean(data)\n",
        "    std = np.std(data, ddof=1)\n",
        "    z_scores = (data - mean) / std\n",
        "    return z_scores\n",
        "\n",
        "np.random.seed(0)\n",
        "data = np.random.normal(loc=50, scale=10, size=100)\n",
        "\n",
        "z_scores = calculate_zscores(data)\n",
        "\n",
        "print(\"First 10 Z-scores:\", z_scores[:10])\n",
        "\n",
        "plt.hist(z_scores, bins=15)\n",
        "plt.show()\n"
      ],
      "metadata": {
        "colab": {
          "base_uri": "https://localhost:8080/",
          "height": 466
        },
        "id": "_T8vHf0KMOGP",
        "outputId": "c4a717af-956f-451a-b917-79de5c648f5f"
      },
      "execution_count": 5,
      "outputs": [
        {
          "output_type": "stream",
          "name": "stdout",
          "text": [
            "First 10 Z-scores: [ 1.68244029  0.33599478  0.90717321  2.15318046  1.78462169 -1.02381746\n",
            "  0.87889019 -0.20846358 -0.16094111  0.34630249]\n"
          ]
        },
        {
          "output_type": "display_data",
          "data": {
            "text/plain": [
              "<Figure size 640x480 with 1 Axes>"
            ],
            "image/png": "[encoded data removed]"
          },
          "metadata": {}
        }
      ]
    },
    {
      "cell_type": "code",
      "source": [],
      "metadata": {
        "id": "oO2gyBk_MuBy"
      },
      "execution_count": null,
      "outputs": []
    }
  ]
}